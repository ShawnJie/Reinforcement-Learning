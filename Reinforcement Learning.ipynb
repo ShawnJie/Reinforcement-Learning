{
 "cells": [
  {
   "cell_type": "markdown",
   "metadata": {},
   "source": [
    "In this program, we inplement a simple Q-learning to train a trading strategy using simulated data and test using simulated data again in a very simple market.\n",
    "The marke has following assumptions:\n",
    "1. The market has only one single security. This market admits arbitrage, and the security price is not a martingale. \n",
    "2. The only security follows a standard O-U process, i.e, meaning reverting.\n",
    "3. The trade size δnt in a single interval is limited to at most K round lots.The trade size δnt in a single interval is limited    to at most K round lots, which means the action space is LotSize·{-K, -K+1, ... , K-1, K}\n",
    "4. Possible holding space is LotSize·{-M, -M+1, ... , M-1, M} and possible security prices is TickSize·{1,2,...1000}.\n",
    "5. State space is holding space * security prices space whose cardinality is (2M+1)*1000 \n",
    "6. There exists quadratic trading frictions, which is specified as following.\n",
    "   SpreadCost(δn) = TickSize · |δn|\n",
    "   ImpactCost(δn) = (δn)2 × TickSize/LotSize\n"
   ]
  },
  {
   "cell_type": "code",
   "execution_count": 1,
   "metadata": {},
   "outputs": [],
   "source": [
    "import pandas as pd\n",
    "import numpy as np\n",
    "import matplotlib.pyplot as plt"
   ]
  },
  {
   "cell_type": "code",
   "execution_count": 2,
   "metadata": {},
   "outputs": [],
   "source": [
    "# Parameters settings:\n",
    "\n",
    "# Security process parameters:\n",
    "lambda_ = np.log(2)/5\n",
    "sigma = 0.1\n",
    "pe = 50\n",
    "\n",
    "# Market parameters:\n",
    "LotSize = 100\n",
    "TickSize = 0.1\n",
    "K = 5\n",
    "M = 10\n",
    "\n",
    "\n",
    "# Q-learning parameters:\n",
    "# Reward = P/L - 0.5*kappa*(P/L)^2\n",
    "kappa = 0.0001\n",
    "gamma = 0.999 # discount factor\n",
    "alpha = 0.1 # learning rate\n",
    "epsilon = 0.1 # epsilon greedy"
   ]
  },
  {
   "cell_type": "code",
   "execution_count": 3,
   "metadata": {},
   "outputs": [],
   "source": [
    "# Generate next day price given current price\n",
    "# Security Price follows a mean-reverting process where dpt = lambda(pe-pt)dt+sigma*dWt\n",
    "def NextPrice(price, pe, lambda_, sigma):\n",
    "    pricechange = lambda_*(pe - price) + sigma*np.random.normal()\n",
    "    nextprice = round(price+pricechange, 1)\n",
    "    return nextprice"
   ]
  },
  {
   "cell_type": "code",
   "execution_count": 4,
   "metadata": {},
   "outputs": [],
   "source": [
    "# Reward Function\n",
    "def Reward(delta_n, TickSize, LotSize, price, newprice, holding, kappa):\n",
    "    SpreadCost = TickSize*abs(delta_n)\n",
    "    ImpactCost = (delta_n**2)*TickSize/LotSize    \n",
    "    pnl = holding*(newprice-price) - SpreadCost - ImpactCost\n",
    "    reward = pnl - 0.5*kappa*(pnl**2)\n",
    "    return reward"
   ]
  },
  {
   "cell_type": "code",
   "execution_count": 5,
   "metadata": {},
   "outputs": [],
   "source": [
    "# Given a state, give an action corresponding to epsilon gready strategy\n",
    "def epsilonGreedyAction(Q, epsilon,holdlot, pricetick):\n",
    "    state = (holdlot, pricetick)\n",
    "    actionspace = Q[state]\n",
    "    optacts = actionspace[actionspace == actionspace.max()].index\n",
    "    nonoptacts = actionspace[actionspace != actionspace.max()][actionspace[actionspace != actionspace.max()]>-np.inf].index\n",
    "    unirand = np.random.uniform()\n",
    "    if (unirand < (1-epsilon)):\n",
    "        return np.random.choice(optacts)\n",
    "    else:\n",
    "        if len(nonoptacts) == 0:\n",
    "            return np.random.choice(optacts)\n",
    "        else:\n",
    "            return np.random.choice(nonoptacts)"
   ]
  },
  {
   "cell_type": "code",
   "execution_count": 6,
   "metadata": {},
   "outputs": [],
   "source": [
    "# Action Lot Space, Holding Lot Space, Price Tick Space and State Space \n",
    "ActionLotSpace = np.arange(-K,K+1)\n",
    "HoldingLotSpace = np.arange(-M,M+1)\n",
    "PriceTickSpace = np.arange(1,1001)\n",
    "StateSpace = []\n",
    "for holdlot in HoldingLotSpace:\n",
    "    for pricetick in PriceTickSpace:\n",
    "        StateSpace.append((holdlot,pricetick))"
   ]
  },
  {
   "cell_type": "code",
   "execution_count": 7,
   "metadata": {},
   "outputs": [],
   "source": [
    "# Initialize Q where some part is -inf because of position limit\n",
    "Q = pd.DataFrame(np.zeros((2*K+1,(2*M+1)*1000)),index=ActionLotSpace, columns=StateSpace)\n",
    "for i in range(K,0,-1):\n",
    "    Q.iloc[0:i,1000*(K-i):1000*(K-i+1)] = -np.inf\n",
    "    Q.iloc[K+i:2*K+1,1000*(2*M+1-i):1000*(2*M+2-i)] = -np.inf"
   ]
  },
  {
   "cell_type": "code",
   "execution_count": 8,
   "metadata": {},
   "outputs": [],
   "source": [
    "# Initialization\n",
    "price = pe\n",
    "pricetick = round(price/TickSize)\n",
    "holding = 0\n",
    "holdlot = 0\n",
    "\n",
    "# Training using 1,000,000 periods\n",
    "for i in range(1000000):\n",
    "    \n",
    "    # Stochastic action given Q and state\n",
    "    action = epsilonGreedyAction(Q, epsilon, holdlot, pricetick)\n",
    "    \n",
    "    # Simulate security price\n",
    "    newprice = NextPrice(price, pe, lambda_, sigma)\n",
    "    newpricetick = round(newprice/TickSize)\n",
    "    \n",
    "    # New position corresponding to our action\n",
    "    newholdlot = holdlot + action\n",
    "    newholding = newholdlot*LotSize\n",
    "    \n",
    "    # Reward of action\n",
    "    delta_n = action*LotSize\n",
    "    R = Reward(delta_n, TickSize, LotSize, price, newprice, holding, kappa)\n",
    "    \n",
    "    # Update Q matrix\n",
    "    Target = R + gamma*(Q[(newholdlot,newpricetick)].max())\n",
    "    Q.loc[action][(holdlot,pricetick)] = (1-alpha)*Q.loc[action][(holdlot,pricetick)] + alpha*Target \n",
    "   \n",
    "    # Update state\n",
    "    price = newprice\n",
    "    pricetick = newpricetick\n",
    "    holding = newholding\n",
    "    holdlot = newholdlot"
   ]
  },
  {
   "cell_type": "code",
   "execution_count": 9,
   "metadata": {},
   "outputs": [],
   "source": [
    "# Initialization\n",
    "price = pe\n",
    "pricetick = round(price/TickSize)\n",
    "holding = 0\n",
    "holdlot = 0\n",
    "\n",
    "PnL = []\n",
    "\n",
    "# Testing using 500,000 simulated periods\n",
    "for i in range(500000):\n",
    "    \n",
    "    # Stochastic action given Q and state\n",
    "    action = epsilonGreedyAction(Q, epsilon, holdlot, pricetick)\n",
    "    \n",
    "    # Simulate security price\n",
    "    newprice = NextPrice(price, pe, lambda_, sigma)\n",
    "    newpricetick = round(newprice/TickSize)\n",
    "    \n",
    "    # New position corresponding to our action\n",
    "    newholdlot = holdlot + action\n",
    "    newholding = newholdlot*LotSize\n",
    "    \n",
    "    # P/L\n",
    "    delta_n = action*LotSize\n",
    "    SpreadCost = TickSize*abs(delta_n)\n",
    "    ImpactCost = (delta_n**2)*TickSize/LotSize    \n",
    "    pnl = holding*(newprice-price) - SpreadCost - ImpactCost\n",
    "    PnL.append(-pnl)\n",
    "    \n",
    "    # Update state\n",
    "    price = newprice\n",
    "    pricetick = newpricetick\n",
    "    holding = newholding\n",
    "    holdlot = newholdlot\n",
    "\n",
    "# Calculate cumulative PnL\n",
    "PnL = np.cumsum(PnL)"
   ]
  },
  {
   "cell_type": "code",
   "execution_count": 10,
   "metadata": {},
   "outputs": [
    {
     "data": {
      "image/png": "[encoded data removed]",
      "text/plain": [
       "<matplotlib.figure.Figure at 0x180625ff908>"
      ]
     },
     "metadata": {},
     "output_type": "display_data"
    }
   ],
   "source": [
    "#plot cumulative PnL\n",
    "plt.figure(figsize=(20,10))\n",
    "plt.title('Cumulative Pnl for Q-learning Trading Algo in a Simple Market',fontsize='xx-large')\n",
    "plt.xlabel('Time Periods',fontsize='x-large')\n",
    "plt.ylabel('PnL',fontsize='x-large')\n",
    "plt.plot(PnL,linewidth=3)\n",
    "plt.show()"
   ]
  },
  {
   "cell_type": "code",
   "execution_count": 11,
   "metadata": {},
   "outputs": [
    {
     "name": "stdout",
     "output_type": "stream",
     "text": [
      "Sharpe Ratio is:  2.945614830868239\n"
     ]
    }
   ],
   "source": [
    "# Calculate returns\n",
    "ret = pd.DataFrame(PnL).diff()\n",
    "ret = ret.dropna().values\n",
    "\n",
    "# Calculate Sharpe Ratio\n",
    "Sharpe = np.sqrt(252)*ret.mean()/ret.std()\n",
    "print('Sharpe Ratio is: ', Sharpe)"
   ]
  },
  {
   "cell_type": "code",
   "execution_count": null,
   "metadata": {},
   "outputs": [],
   "source": []
  }
 ],
 "metadata": {
  "kernelspec": {
   "display_name": "Python 3",
   "language": "python",
   "name": "python3"
  },
  "language_info": {
   "codemirror_mode": {
    "name": "ipython",
    "version": 3
   },
   "file_extension": ".py",
   "mimetype": "text/x-python",
   "name": "python",
   "nbconvert_exporter": "python",
   "pygments_lexer": "ipython3",
   "version": "3.6.4"
  }
 },
 "nbformat": 4,
 "nbformat_minor": 2
}
